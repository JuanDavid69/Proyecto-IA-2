{
 "cells": [
  {
   "cell_type": "markdown",
   "metadata": {},
   "source": [
    "# Proyecto 2. Introducción a la inteligencia artificial\n",
    "### Integrantes:\n",
    "- Jose Manuel Sanclemente Franco\n",
    "- Miguel Angel Gutierrez Prieto\n",
    "- Juan David Gómez Orozco"
   ]
  },
  {
   "cell_type": "code",
   "execution_count": 1,
   "metadata": {},
   "outputs": [],
   "source": [
    "import matplotlib.pyplot as plt\n",
    "import pandas as pd\n",
    "from sklearn import tree\n",
    "%matplotlib inline"
   ]
  },
  {
   "cell_type": "markdown",
   "metadata": {},
   "source": [
    "### Cargamos todos los datos en un dataFrame"
   ]
  },
  {
   "cell_type": "code",
   "execution_count": 2,
   "metadata": {
    "scrolled": true
   },
   "outputs": [
    {
     "data": {
      "text/html": [
       "<div>\n",
       "<style scoped>\n",
       "    .dataframe tbody tr th:only-of-type {\n",
       "        vertical-align: middle;\n",
       "    }\n",
       "\n",
       "    .dataframe tbody tr th {\n",
       "        vertical-align: top;\n",
       "    }\n",
       "\n",
       "    .dataframe thead th {\n",
       "        text-align: right;\n",
       "    }\n",
       "</style>\n",
       "<table border=\"1\" class=\"dataframe\">\n",
       "  <thead>\n",
       "    <tr style=\"text-align: right;\">\n",
       "      <th></th>\n",
       "      <th>age</th>\n",
       "      <th>sex</th>\n",
       "      <th>cp</th>\n",
       "      <th>trestbps</th>\n",
       "      <th>chol</th>\n",
       "      <th>fbs</th>\n",
       "      <th>restecg</th>\n",
       "      <th>thalach</th>\n",
       "      <th>exang</th>\n",
       "      <th>oldpeak</th>\n",
       "      <th>slope</th>\n",
       "      <th>ca</th>\n",
       "      <th>thal</th>\n",
       "      <th>target</th>\n",
       "    </tr>\n",
       "  </thead>\n",
       "  <tbody>\n",
       "    <tr>\n",
       "      <td>0</td>\n",
       "      <td>63</td>\n",
       "      <td>1</td>\n",
       "      <td>3</td>\n",
       "      <td>145</td>\n",
       "      <td>233</td>\n",
       "      <td>1</td>\n",
       "      <td>0</td>\n",
       "      <td>150</td>\n",
       "      <td>0</td>\n",
       "      <td>2.3</td>\n",
       "      <td>0</td>\n",
       "      <td>0</td>\n",
       "      <td>1</td>\n",
       "      <td>1</td>\n",
       "    </tr>\n",
       "    <tr>\n",
       "      <td>1</td>\n",
       "      <td>37</td>\n",
       "      <td>1</td>\n",
       "      <td>2</td>\n",
       "      <td>130</td>\n",
       "      <td>250</td>\n",
       "      <td>0</td>\n",
       "      <td>1</td>\n",
       "      <td>187</td>\n",
       "      <td>0</td>\n",
       "      <td>3.5</td>\n",
       "      <td>0</td>\n",
       "      <td>0</td>\n",
       "      <td>2</td>\n",
       "      <td>1</td>\n",
       "    </tr>\n",
       "    <tr>\n",
       "      <td>2</td>\n",
       "      <td>41</td>\n",
       "      <td>0</td>\n",
       "      <td>1</td>\n",
       "      <td>130</td>\n",
       "      <td>204</td>\n",
       "      <td>0</td>\n",
       "      <td>0</td>\n",
       "      <td>172</td>\n",
       "      <td>0</td>\n",
       "      <td>1.4</td>\n",
       "      <td>2</td>\n",
       "      <td>0</td>\n",
       "      <td>2</td>\n",
       "      <td>1</td>\n",
       "    </tr>\n",
       "    <tr>\n",
       "      <td>3</td>\n",
       "      <td>56</td>\n",
       "      <td>1</td>\n",
       "      <td>1</td>\n",
       "      <td>120</td>\n",
       "      <td>236</td>\n",
       "      <td>0</td>\n",
       "      <td>1</td>\n",
       "      <td>178</td>\n",
       "      <td>0</td>\n",
       "      <td>0.8</td>\n",
       "      <td>2</td>\n",
       "      <td>0</td>\n",
       "      <td>2</td>\n",
       "      <td>1</td>\n",
       "    </tr>\n",
       "    <tr>\n",
       "      <td>4</td>\n",
       "      <td>57</td>\n",
       "      <td>0</td>\n",
       "      <td>0</td>\n",
       "      <td>120</td>\n",
       "      <td>354</td>\n",
       "      <td>0</td>\n",
       "      <td>1</td>\n",
       "      <td>163</td>\n",
       "      <td>1</td>\n",
       "      <td>0.6</td>\n",
       "      <td>2</td>\n",
       "      <td>0</td>\n",
       "      <td>2</td>\n",
       "      <td>1</td>\n",
       "    </tr>\n",
       "  </tbody>\n",
       "</table>\n",
       "</div>"
      ],
      "text/plain": [
       "   age  sex  cp  trestbps  chol  fbs  restecg  thalach  exang  oldpeak  slope  \\\n",
       "0   63    1   3       145   233    1        0      150      0      2.3      0   \n",
       "1   37    1   2       130   250    0        1      187      0      3.5      0   \n",
       "2   41    0   1       130   204    0        0      172      0      1.4      2   \n",
       "3   56    1   1       120   236    0        1      178      0      0.8      2   \n",
       "4   57    0   0       120   354    0        1      163      1      0.6      2   \n",
       "\n",
       "   ca  thal  target  \n",
       "0   0     1       1  \n",
       "1   0     2       1  \n",
       "2   0     2       1  \n",
       "3   0     2       1  \n",
       "4   0     2       1  "
      ]
     },
     "execution_count": 2,
     "metadata": {},
     "output_type": "execute_result"
    }
   ],
   "source": [
    "heart = pd.read_csv('./Data/heart.csv')\n",
    "heart.head()"
   ]
  },
  {
   "cell_type": "markdown",
   "metadata": {},
   "source": [
    "### A continuacion greaficamos las variables como histogramas, y las variables categóricas como diagramas de tortas."
   ]
  },
  {
   "cell_type": "code",
   "execution_count": 3,
   "metadata": {},
   "outputs": [
    {
     "data": {
      "image/png": "[encoded data removed]",
      "text/plain": [
       "<Figure size 1296x720 with 18 Axes>"
      ]
     },
     "metadata": {
      "needs_background": "light"
     },
     "output_type": "display_data"
    }
   ],
   "source": [
    "fig, axs =plt.subplots(3, 6, figsize =(18,10))\n",
    "#VARIABLES NUMERICAS\n",
    "axs[0,0].hist(heart.age)\n",
    "axs[0,0].set_title('Age')\n",
    "\n",
    "axs[0,1].hist(heart.trestbps)\n",
    "axs[0,1].set_title('Trestbps')\n",
    "\n",
    "axs[0,2].hist(heart.chol)\n",
    "axs[0,2].set_title('Chol')\n",
    "\n",
    "axs[0,3].hist(heart.thalach)\n",
    "axs[0,3].set_title('Thalach')\n",
    "\n",
    "axs[0,4].hist(heart.oldpeak)\n",
    "axs[0,4].set_title('Oldpeak')\n",
    "\n",
    "axs[0,5].hist(heart.ca)\n",
    "axs[0,5].set_title('Ca')\n",
    "\n",
    "#VARIABLES CATEGORICAS\n",
    "sex = heart['sex'].value_counts()\n",
    "labels1 = '0', '1'\n",
    "data1 = [sex[0], sex[1]]\n",
    "axs[1,0].pie(data1, labels=labels1)\n",
    "axs[1,0].set_title('Sex')\n",
    "\n",
    "cp = heart['cp'].value_counts()\n",
    "labels2 = '0', '1', '2', '3'\n",
    "data2 = [cp[0], cp[1], cp[2], cp[3]]\n",
    "axs[1,1].pie(data2, labels=labels2)\n",
    "axs[1,1].set_title('Cp')\n",
    "\n",
    "fbs = heart['fbs'].value_counts()\n",
    "labels3 = '0', '1'\n",
    "data3 = [fbs[0], fbs[1]]\n",
    "axs[1,2].pie(data3, labels=labels3)\n",
    "axs[1,2].set_title('Fbs')\n",
    "\n",
    "restecg = heart['restecg'].value_counts()\n",
    "labels4 = '0', '1', '2'\n",
    "data4 = [restecg[0], restecg[1], restecg[2]]\n",
    "axs[1,3].pie(data4, labels=labels4)\n",
    "axs[1,3].set_title('Restecg')\n",
    "\n",
    "exang = heart['exang'].value_counts()\n",
    "labels5 = '0', '1'\n",
    "data5 = [exang[0], exang[1]]\n",
    "axs[1,4].pie(data5, labels=labels5)\n",
    "axs[1,4].set_title('Exang')\n",
    "\n",
    "slope = heart['slope'].value_counts()\n",
    "labels6 = '0', '1', '2'\n",
    "data6 = [slope[0], slope[1], slope[2]]\n",
    "axs[1,5].pie(data6, labels=labels6)\n",
    "axs[1,5].set_title('Slope')\n",
    "\n",
    "thal = heart['thal'].value_counts()\n",
    "labels8 = '0', '1', '2', '3'\n",
    "data8 = [thal[0], thal[1], thal[2], thal[3]]\n",
    "axs[2,0].pie(data8, labels=labels8)\n",
    "axs[2,0].set_title('Thal')\n",
    "\n",
    "plt.show()"
   ]
  },
  {
   "cell_type": "markdown",
   "metadata": {},
   "source": [
    "#### Buscamos los datos faltantes del dataFrame"
   ]
  },
  {
   "cell_type": "code",
   "execution_count": 4,
   "metadata": {},
   "outputs": [
    {
     "name": "stdout",
     "output_type": "stream",
     "text": [
      "0\n"
     ]
    }
   ],
   "source": [
    "print(heart.isnull().sum().sum())\n"
   ]
  },
  {
   "cell_type": "markdown",
   "metadata": {},
   "source": [
    "### Dividimos el conjunto de datos en 80% para entrenamiento y 20% para pruebas"
   ]
  },
  {
   "cell_type": "code",
   "execution_count": 5,
   "metadata": {},
   "outputs": [
    {
     "name": "stdout",
     "output_type": "stream",
     "text": [
      "(242, 13) (242,)\n",
      "(61, 13) (61,)\n"
     ]
    }
   ],
   "source": [
    "from sklearn.model_selection import train_test_split\n",
    "\n",
    "variables = heart[['age', 'sex', 'cp', 'trestbps', 'chol', 'fbs', 'restecg', 'thalach', 'exang', 'oldpeak', 'slope','ca','thal']].values\n",
    "target = heart['target'].values\n",
    "\n",
    "trainX, testX, trainY, testY = train_test_split(variables, target, test_size=0.2)\n",
    "print(trainX.shape, trainY.shape)\n",
    "print(testX.shape, testY.shape)"
   ]
  },
  {
   "cell_type": "markdown",
   "metadata": {},
   "source": [
    "### Entrenamos un modelo de Árbol de decisión\n",
    "#### Definición de parametros:\n",
    "\n",
    "**max_depth:** int o None, opcional (predeterminado = Ninguno)\n",
    "- La profundidad máxima del árbol. Si ninguno, los nodos se expanden hasta que todas las hojas sean puras o hasta que todas las hojas contengan menos de min_samples_split samples.\n",
    "\n",
    "**min_samples_split:** int, float, opcional (predeterminado = 2)\n",
    "El número mínimo de muestras necesarias para dividir un nodo interno:\n",
    "\n",
    "- Si int, entonces considere **min_samples_split** como el número mínimo.\n",
    "- Si flota, **min_samples_split** es una fracción y ceil (min_samples_split * n_samples) es el número mínimo de muestras para cada división.\n",
    "\n",
    "**random_state:** int, instancia RandomState o None, opcional (predeterminado = Ninguno)\n",
    "\n",
    "- Si int, **random_state** es la semilla utilizada por el generador de números aleatorios; Si la instancia de RandomState, **random_state** es el generador de números aleatorios; Si no hay ninguno, el generador de números aleatorios es la instancia RandomState utilizada por np.random."
   ]
  },
  {
   "cell_type": "code",
   "execution_count": 6,
   "metadata": {},
   "outputs": [
    {
     "name": "stdout",
     "output_type": "stream",
     "text": [
      "Puntaje en los datos de entrenamiento:\n",
      "0.8512396694214877 \n",
      "\n",
      "Puntaje en los datos de pruebas:\n",
      "0.819672131147541\n"
     ]
    }
   ],
   "source": [
    "max_depth = 3\n",
    "min_samples_split = 2\n",
    "myTree = tree.DecisionTreeClassifier(max_depth = 3, min_samples_split = 2, random_state = 1)\n",
    "myTree = myTree.fit(trainX, trainY)\n",
    "\n",
    "print('Puntaje en los datos de entrenamiento:')\n",
    "print(myTree.score(trainX, trainY), '\\n')\n",
    "print('Puntaje en los datos de pruebas:')\n",
    "print(myTree.score(testX, testY))"
   ]
  },
  {
   "cell_type": "code",
   "execution_count": null,
   "metadata": {},
   "outputs": [],
   "source": []
  },
  {
   "cell_type": "code",
   "execution_count": null,
   "metadata": {},
   "outputs": [],
   "source": []
  }
 ],
 "metadata": {
  "kernelspec": {
   "display_name": "Python 3",
   "language": "python",
   "name": "python3"
  },
  "language_info": {
   "codemirror_mode": {
    "name": "ipython",
    "version": 3
   },
   "file_extension": ".py",
   "mimetype": "text/x-python",
   "name": "python",
   "nbconvert_exporter": "python",
   "pygments_lexer": "ipython3",
   "version": "3.6.8"
  }
 },
 "nbformat": 4,
 "nbformat_minor": 2
}
